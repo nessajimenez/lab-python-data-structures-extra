{
 "cells": [
  {
   "cell_type": "markdown",
   "metadata": {},
   "source": [
    "# Lab | Data Structures "
   ]
  },
  {
   "cell_type": "markdown",
   "metadata": {},
   "source": [
    "## Exercise 1: Working with Lists"
   ]
  },
  {
   "cell_type": "markdown",
   "metadata": {},
   "source": [
    "Imagine you are building a program for a teacher who wants to track the progress of their students throughout the semester. The teacher wants to input the grades of each student one by one, and get a summary of their performance. There are in total 5 students. You are tasked with building the program that will allow the teacher to do this easily.\n",
    "\n",
    "The program will prompt the teacher to enter the grades of each student. Once the teacher has entered all the grades, the program will calculate the total sum of the grades and display it on the screen. Then, the program will create a new list by selecting only the grades of the first, third, and fifth students entered by the teacher, and sort them in ascending order.\n",
    "\n",
    "Finally, the program will print out the new list, along with its length and the number of occurrences of the score 5 in the list. This will give the teacher a good overview of the performance of the selected students, and help them identify any potential issues early on."
   ]
  },
  {
   "cell_type": "markdown",
   "metadata": {},
   "source": [
    "*Hint:*\n",
    "- You can use the input() function to ask the user to enter their information.\n",
    "- Look for list methods to perform the tasks. \n",
    "- Remember, it is possible to get a part of the sequence using:\n",
    "\n",
    "    ```python\n",
    "    sequence[x:y:z]\n",
    "    ```\n",
    "    where x, y, z are integers.\n",
    "\n",
    "    The above returns a new sequence with the following characteristics:\n",
    "\n",
    "    - A sequence with the same type as the original (a slice of a list is a list, a slice of a tuple is a tuple, and a slice of a string is a string).\n",
    "    - A sequence with elements from `sequence [x]` to `sequence [y-1]` (does not include a sequence [y]). By skipping `z` elements each time, it can be omitted if ` z = 1`.\n"
   ]
  },
  {
   "cell_type": "markdown",
   "metadata": {},
   "source": [
    "*Recommended External Resources:*\n",
    "- *[Python Lists](https://www.w3schools.com/python/python_lists.asp)*\n",
    "- *[Python List Methods](https://www.w3schools.com/python/python_ref_list.asp)*\n",
    "- *[Python Built-in Functions](https://docs.python.org/3/library/functions.html)*\n"
   ]
  },
  {
   "cell_type": "code",
   "execution_count": 146,
   "metadata": {},
   "outputs": [
    {
     "name": "stdout",
     "output_type": "stream",
     "text": [
      "Enter the grades of student 1: 33 44 55\n",
      "Enter the grades of student 2: 44 33\n",
      "Enter the grades of student 3: 22 44\n",
      "Enter the grades of student 4: 44 55\n",
      "Enter the grades of student 5: 88 77\n",
      "The total sum of all grades is: 539\n",
      "The selected grades: [33, 33, 44, 55, 55, 77]\n",
      "The length of the selected grades list: 6\n",
      "The number of occurrences of the score 5: 0\n"
     ]
    }
   ],
   "source": []
  },
  {
   "cell_type": "code",
   "execution_count": 141,
   "metadata": {},
   "outputs": [
    {
     "name": "stdout",
     "output_type": "stream",
     "text": [
      "[66, 275]\n"
     ]
    }
   ],
   "source": [
    "print(x)"
   ]
  },
  {
   "cell_type": "markdown",
   "metadata": {},
   "source": [
    "## Exercise 2: Tuples"
   ]
  },
  {
   "cell_type": "markdown",
   "metadata": {},
   "source": [
    "Imagine you're running a fruit stand and want to keep track of your inventory. Write a Python program that does the following:\n",
    "\n",
    "- Initializes a tuple with 5 different types of fruit.\n",
    "- Outputs the first and last elements of the tuple, so you can see the full range of fruits the store offers.\n",
    "- Replaces the second element of the tuple with a new fruit that the store has recently received, and prints the updated tuple so you can see the changes.\n",
    "- Concatenates a new tuple containing 2 additional fruits to the original tuple, so you can add them to the store inventory, and prints the resulting tuple to see the updated inventory.\n",
    "- Splits the resulting tuple into 2 tuples of 3 elements each (the first tuple contains the first 3 elements, and the second tuple contains the last 3 elements), so you can organize the inventory more effectively.\n",
    "- Combines the 2 tuples from the previous step with the original tuple into a new tuple, and prints the resulting tuple and its length, so you can see the final inventory after all the changes."
   ]
  },
  {
   "cell_type": "markdown",
   "metadata": {},
   "source": [
    "*Recommended External Resources: [Python Tuples Examples and Methods](https://www.w3schools.com/python/python_tuples.asp)*\n",
    "\n"
   ]
  },
  {
   "cell_type": "code",
   "execution_count": 83,
   "metadata": {},
   "outputs": [
    {
     "name": "stdout",
     "output_type": "stream",
     "text": [
      "('banana', 'kiwi', 'strawberry', 'grape', 'orange')\n",
      "-------\n",
      "banana\n",
      "orange\n",
      "-------\n",
      "('banana', 'dragonfruit', 'strawberry', 'grape', 'orange')\n",
      "-------\n",
      "-------\n",
      "('cantaloupe', 'cherries', 'banana', 'dragonfruit', 'strawberry', 'grape', 'orange')\n",
      "('cantaloupe', 'cherries', 'banana')\n",
      "('strawberry', 'grape', 'orange')\n",
      "('cantaloupe', 'cherries', 'banana', 'strawberry', 'grape', 'orange', 'cantaloupe', 'cherries', 'banana', 'dragonfruit', 'strawberry', 'grape', 'orange')\n"
     ]
    },
    {
     "data": {
      "text/plain": [
       "13"
      ]
     },
     "execution_count": 83,
     "metadata": {},
     "output_type": "execute_result"
    }
   ],
   "source": [
    "# Your code here\n",
    "\n",
    "fruits=(\"banana\",\"kiwi\",\"strawberry\",\"grape\",\"orange\")\n",
    "\n",
    "print(fruits[0:5])\n",
    "\n",
    "print(fruits[0])\n",
    "print(fruits[4])\n",
    "\n",
    "fruits_upd=(\"banana\",\"dragonfruit\",\"strawberry\",\"grape\",\"orange\")\n",
    "print(fruits_upd)\n",
    "\n",
    "new_fruit = (\"cantaloupe\",\"cherries\")\n",
    "full_fruit = (new_fruit + fruits_upd)\n",
    "\n",
    "print(full_fruit)\n",
    "type(full_fruit)\n",
    "\n",
    "list_1 = (full_fruit[0:3])\n",
    "list_2 = (full_fruit[4:7])\n",
    "\n",
    "print(list_1)\n",
    "print(list_2)\n",
    "\n",
    "newest_list = (list_1+list_2+full_fruit)\n",
    "print(newest_list)\n",
    "len(newest_list)"
   ]
  },
  {
   "cell_type": "markdown",
   "metadata": {},
   "source": [
    "## Exercise 3: Sets"
   ]
  },
  {
   "cell_type": "markdown",
   "metadata": {},
   "source": [
    "Imagine you are a data analyst working for a literature museum. Your manager has given you two poems to analyze, and she wants you to write a Python program to extract useful information from them.\n",
    "\n",
    "Your program should:\n",
    "\n",
    "- Create two sets, one for each poem, containing all unique words in both poems (ignoring case and punctuation).\n",
    "- Print the number of unique words in each set.\n",
    "- Identify and print the unique words present in the first poem but not in the second one.\n",
    "- Identify and print the unique words present in the second poem but not in the first one.\n",
    "- Identify and print the unique words present in both poems and print it in alphabetical order."
   ]
  },
  {
   "cell_type": "markdown",
   "metadata": {},
   "source": [
    "*Recommended External Resources:*\n",
    "- *[Python Sets](https://www.w3schools.com/python/python_sets.asp)* \n",
    "- *[Python Set Methods](https://www.w3schools.com/python/python_ref_set.asp)*\n",
    "- *[Python String Methods](https://www.w3schools.com/python/python_ref_string.asp)*\n"
   ]
  },
  {
   "cell_type": "code",
   "execution_count": 123,
   "metadata": {},
   "outputs": [
    {
     "name": "stdout",
     "output_type": "stream",
     "text": [
      "43 {'', 'tasted', 'also', 'had', 'world', 'know', 'fire', 'But', 'desire', 'Is', 'suffice', 'of', 'those', 'say', 'I', 'ice', 'hate', 'From', 'And', 'it', 'would', 'Some', 'end', 'if', 'will', 'in', 'hold', 'favor', 'think', 'To', 'twice', 'with', 'for', 'perish', 'great', 'that', 'to', 'destruction', 'I’ve', 'the', 'what', 'enough', 'who'}\n",
      "46 {'', 'had', 'today', 'away', 'know', 'dream', 'But', \"It's\", 'we', 'of', 'those', 'say', 'I', 'and', 'as', 'side', 'From', 'it', 'seen', \"I've\", 'but', 'Some', 'life', \"it's\", 'if', 'end', 'still', 'To', 'are', 'think', 'with', 'test', 'that', 'fades', 'a', 'deem', 'to', 'love', 'is', 'though', 'quest', 'enough', 'what', 'made', 'who', 'see'}\n"
     ]
    }
   ],
   "source": [
    "poem = \"\"\"Some say the world will end in fire,\n",
    "Some say in ice.\n",
    "From what I’ve tasted of desire\n",
    "I hold with those who favor fire.\n",
    "But if it had to perish twice,\n",
    "I think I know enough of hate\n",
    "To say that for destruction ice\n",
    "Is also great\n",
    "And would suffice.\"\"\"\n",
    "\n",
    "new_poem = \"\"\"Some say life is but a dream,\n",
    "Some say it's a test.\n",
    "From what I've seen and what I deem,\n",
    "I side with those who see it as a quest.\n",
    "\n",
    "But if it had to end today,\n",
    "I think I know enough of love,\n",
    "To say that though it fades away,\n",
    "It's still what we are made of.\"\"\"\n",
    "\n",
    "poem1_cleaned = poem.replace(\"\\n\",\" \").replace(\".\",\" \").replace(\",\",\" \")\n",
    "poem1_words = set(poem1_cleaned.split(\" \"))\n",
    "print(len(poem1_words),poem1_words)\n",
    "\n",
    "poem2_cleaned = new_poem.replace(\"\\n\",\" \").replace(\".\",\" \").replace(\",\",\" \")\n",
    "poem2_words = set(poem2_cleaned.split(\" \"))\n",
    "print(len(poem2_words),poem2_words)\n",
    "\n"
   ]
  },
  {
   "cell_type": "code",
   "execution_count": 145,
   "metadata": {},
   "outputs": [],
   "source": [
    "# Your code here\n",
    "in_both = set()\n",
    "only_a = set ()\n",
    "only_b = set()\n",
    "\n",
    "for x in poem1_words:\n",
    "    if x.lower() in poem2_words:\n",
    "        if x.lower() not in in_both:\n",
    "            in_both.add(x.lower())\n",
    "        else:\n",
    "            continue\n",
    "    else:\n",
    "        if x.lower() not in only_a:\n",
    "            only_a.add(x.lower())\n",
    "        else:\n",
    "            continue\n",
    "            \n",
    "for y in poem2_words:\n",
    "    if y.lower() not in poem1_words:\n",
    "        if y.lower() not in only_b:\n",
    "            only_b.add(y.lower())\n",
    "        else:\n",
    "            break\n",
    "    else:\n",
    "        break\n"
   ]
  },
  {
   "cell_type": "code",
   "execution_count": 146,
   "metadata": {},
   "outputs": [
    {
     "name": "stdout",
     "output_type": "stream",
     "text": [
      "these words are in both poems ['', 'and', 'but', 'end', 'enough', 'had', 'if', 'is', 'it', 'know', 'of', 'say', 'that', 'think', 'those', 'to', 'what', 'who', 'with'] 19\n",
      "these words are only in poem 1 ['also', 'desire', 'destruction', 'favor', 'fire', 'for', 'from', 'great', 'hate', 'hold', 'i', 'ice', 'in', 'i’ve', 'perish', 'some', 'suffice', 'tasted', 'the', 'twice', 'will', 'world', 'would'] 23\n",
      "these words are only in poem 2 [] 0\n"
     ]
    }
   ],
   "source": [
    "in_both_sorted = sorted(in_both)\n",
    "only_a_sorted = sorted(only_a)\n",
    "only_b_sorted = sorted(only_b)      \n",
    "\n",
    "print(f\"these words are in both poems {in_both_sorted}\", len(in_both))\n",
    "print(f\"these words are only in poem 1 {only_a_sorted}\", len(only_a))\n",
    "print(f\"these words are only in poem 2 {only_b_sorted}\", len(only_b))"
   ]
  },
  {
   "cell_type": "markdown",
   "metadata": {},
   "source": [
    "## Exercise 4: Dictionaries"
   ]
  },
  {
   "cell_type": "markdown",
   "metadata": {},
   "source": [
    "Consider the following dictionary of students with their scores in different subjects. One of the students, Bob, has complained about his score in Philosophy and, after reviewing it, the teacher has decided to update his score to 100. Write a Python program that updates Bob's score in Philosophy to 100 in the dictionary."
   ]
  },
  {
   "cell_type": "markdown",
   "metadata": {},
   "source": [
    "*Recommended External Resources: [Python Dictionary Examples and Methods](https://www.w3schools.com/python/python_dictionaries.asp)*\n"
   ]
  },
  {
   "cell_type": "code",
   "execution_count": 51,
   "metadata": {},
   "outputs": [],
   "source": [
    "grades = {'Alice': {'Physics': 75, 'Math': 85, 'Chemistry': 60, 'Philosophy': 90}, 'Bob': {'Physics': 75, 'Math': 85, 'Chemistry': 60, 'Philosophy': 90}}"
   ]
  },
  {
   "cell_type": "code",
   "execution_count": null,
   "metadata": {},
   "outputs": [],
   "source": [
    "# Your code here"
   ]
  },
  {
   "cell_type": "markdown",
   "metadata": {},
   "source": [
    "## Bonus"
   ]
  },
  {
   "cell_type": "markdown",
   "metadata": {},
   "source": [
    "1. Below are the two lists. Write a Python program to convert them into a dictionary in a way that item from list1 is the key and item from list2 is the value."
   ]
  },
  {
   "cell_type": "markdown",
   "metadata": {},
   "source": [
    "*Hint: Use the zip() function. This function takes two or more iterables (like list, dict, string), aggregates them in a tuple, and returns it. Afterwards, you can use a function that turns a tuple into a dictionary.*"
   ]
  },
  {
   "cell_type": "markdown",
   "metadata": {},
   "source": [
    "*Recommended External Resources: [Python Zip Function](https://www.w3schools.com/python/ref_func_zip.asp)*\n"
   ]
  },
  {
   "cell_type": "code",
   "execution_count": null,
   "metadata": {},
   "outputs": [],
   "source": [
    "keys = ['Physics', 'Math', 'Chemistry', 'Philosophy']\n",
    "values = [75, 85, 60,90]\n",
    "\n",
    "# Your code here"
   ]
  },
  {
   "cell_type": "markdown",
   "metadata": {},
   "source": [
    "2. Get the subject with the minimum score from the previous dictionary."
   ]
  },
  {
   "cell_type": "markdown",
   "metadata": {},
   "source": [
    "*Hint: Use the built-in function min(). Read about the parameter key.*"
   ]
  },
  {
   "cell_type": "markdown",
   "metadata": {},
   "source": [
    "\n",
    "*Recommended External Resources:*\n",
    "- *[Python Min Function Official Documentation](https://docs.python.org/3.8/library/functions.html#min)*\n",
    "- *[How to use key function in max and min in Python](https://medium.com/analytics-vidhya/how-to-use-key-function-in-max-and-min-in-python-1fdbd661c59c)*"
   ]
  },
  {
   "cell_type": "code",
   "execution_count": 3,
   "metadata": {},
   "outputs": [
    {
     "ename": "SyntaxError",
     "evalue": "invalid syntax (3820420688.py, line 2)",
     "output_type": "error",
     "traceback": [
      "\u001b[0;36m  Cell \u001b[0;32mIn[3], line 2\u001b[0;36m\u001b[0m\n\u001b[0;31m    install jupyterthemes\u001b[0m\n\u001b[0m            ^\u001b[0m\n\u001b[0;31mSyntaxError\u001b[0m\u001b[0;31m:\u001b[0m invalid syntax\n"
     ]
    }
   ],
   "source": [
    "# Your code here\n"
   ]
  }
 ],
 "metadata": {
  "kernelspec": {
   "display_name": "Python 3 (ipykernel)",
   "language": "python",
   "name": "python3"
  },
  "language_info": {
   "codemirror_mode": {
    "name": "ipython",
    "version": 3
   },
   "file_extension": ".py",
   "mimetype": "text/x-python",
   "name": "python",
   "nbconvert_exporter": "python",
   "pygments_lexer": "ipython3",
   "version": "3.11.7"
  }
 },
 "nbformat": 4,
 "nbformat_minor": 4
}
